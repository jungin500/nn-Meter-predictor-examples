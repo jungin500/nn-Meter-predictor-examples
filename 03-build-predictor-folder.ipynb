{
 "cells": [
  {
   "cell_type": "code",
   "execution_count": 1,
   "metadata": {},
   "outputs": [],
   "source": [
    "import os\n",
    "import shutil\n",
    "import glob\n",
    "from pathlib import Path\n",
    "import json"
   ]
  },
  {
   "cell_type": "code",
   "execution_count": 5,
   "metadata": {},
   "outputs": [
    {
     "name": "stdout",
     "output_type": "stream",
     "text": [
      "Force disabling BF_add_conv\n",
      "Force disabling BF_concat_conv\n"
     ]
    }
   ],
   "source": [
    "FOLDER_NAME = 'cortexA53_aarch64cpu_tflite28'\n",
    "os.makedirs(os.path.join(os.getcwd(), FOLDER_NAME), exist_ok=True)\n",
    "\n",
    "fusion_rule_json = json.load(open(os.path.join(os.getcwd(), \"fusion_rule_test\", \"results\", \"detected_fusion_rule.json\"), 'r'))\n",
    "fusion_rule_target = os.path.join(os.getcwd(), FOLDER_NAME, \"fusion_rules.json\")\n",
    "\n",
    "# 'ks' KeyError workaround\n",
    "for key in fusion_rule_json.keys():\n",
    "    if 'BF_' in key and key.endswith('_conv'):\n",
    "        if fusion_rule_json[key]['obey']:\n",
    "            fusion_rule_json[key]['force_no_obey_workaround'] = True\n",
    "            fusion_rule_json[key]['obey'] = False\n",
    "            print(f\"Force disabling {key}\")\n",
    "        \n",
    "with open(os.path.join(os.getcwd(), FOLDER_NAME, \"fusion_rules.json\"), 'w') as f:\n",
    "    json.dump(fusion_rule_json, f, indent=4)"
   ]
  },
  {
   "cell_type": "code",
   "execution_count": 3,
   "metadata": {},
   "outputs": [
    {
     "name": "stdout",
     "output_type": "stream",
     "text": [
      "Predictor_avgpool_block_finegrained4 -> avgpool\n",
      "Predictor_concat_block_finegrained4 -> concat\n",
      "Predictor_channel_shuffle_finegrained4 -> channelshuffle\n",
      "Predictor_fc_block_finegrained4 -> fc\n",
      "Predictor_add_block_finegrained4 -> add\n",
      "Predictor_hswish_block_finegrained4 -> hswish\n",
      "Predictor_conv_bn_relu_finegrained4 -> conv-bn-relu\n",
      "Predictor_se_block_finegrained4 -> se\n",
      "Predictor_bn_relu_finegrained4 -> bnrelu\n",
      "Predictor_dwconv_bn_relu_finegrained4 -> dwconv-bn-relu\n",
      "Predictor_bn_block_finegrained4 -> bn\n",
      "Predictor_add_relu_finegrained4 -> addrelu\n",
      "Predictor_globalavgpool_block_finegrained4 -> global-avgpool\n",
      "Predictor_relu_block_finegrained4 -> relu\n",
      "Predictor_maxpool_block_finegrained4 -> maxpool\n",
      "Predictor_split_block_finegrained4 -> split\n"
     ]
    }
   ],
   "source": [
    "kernel_type_naming_map = {\n",
    "    \"conv_bn_relu\": \"conv-bn-relu\",\n",
    "    \"dwconv_bn_relu\": \"dwconv-bn-relu\",\n",
    "    \"fc_block\": \"fc\",\n",
    "    \"globalavgpool_block\": \"global-avgpool\",\n",
    "    \"hswish_block\": \"hswish\",\n",
    "    \"relu_block\": \"relu\",\n",
    "    \"se_block\": \"se\",\n",
    "    \"split_block\": \"split\",\n",
    "    \"add_block\": \"add\",\n",
    "    \"add_relu\": \"addrelu\",\n",
    "    \"maxpool_block\": \"maxpool\",\n",
    "    \"avgpool_block\": \"avgpool\",\n",
    "    \"bn_block\": \"bn\",\n",
    "    \"bn_relu\": \"bnrelu\",\n",
    "    \"channel_shuffle\": \"channelshuffle\",\n",
    "    \"concat_block\": \"concat\"\n",
    "}\n",
    "\n",
    "file_list = glob.glob(os.path.join(os.getcwd(), \"predictor_build\", \"results\", \"Predictor_*_finegrained4.pkl\"))\n",
    "assert len(file_list) == 16\n",
    "target_stems = []\n",
    "\n",
    "for file_name in file_list:\n",
    "    file_stem = Path(file_name).stem\n",
    "    target_stem = kernel_type_naming_map[file_stem.replace('Predictor_', '').replace('_finegrained4', '')]\n",
    "    print(f\"{file_stem} -> {target_stem}\")\n",
    "    \n",
    "    shutil.copy(\n",
    "        file_name,\n",
    "        os.path.join(os.getcwd(), FOLDER_NAME, f\"{target_stem}.pkl\")\n",
    "    )\n",
    "    target_stems.append(target_stem)"
   ]
  },
  {
   "cell_type": "code",
   "execution_count": 4,
   "metadata": {},
   "outputs": [],
   "source": [
    "# Create meta file containing key-value storage\n",
    "META_FILENAME = os.path.join(os.getcwd(), FOLDER_NAME, \"metadata.yml\")\n",
    "FOLDER_PWD = os.path.join(os.getcwd(), FOLDER_NAME)\n",
    "\n",
    "header = f'''name: {FOLDER_NAME}\n",
    "version: 1.0\n",
    "category: cpu\n",
    "package_location: {FOLDER_PWD}\n",
    "kernel_predictors:\n",
    "'''\n",
    "\n",
    "with open(META_FILENAME, \"w\") as f:\n",
    "    f.write(header)\n",
    "    for stem_name in target_stems:\n",
    "        f.write(f\"    - {stem_name}\\n\")"
   ]
  }
 ],
 "metadata": {
  "interpreter": {
   "hash": "4ceadcaa418bf130377fd3b67700c287048db5f16fdacccd96ecfaec0b555f2b"
  },
  "kernelspec": {
   "display_name": "Python 3.9.12 ('nni-cpu')",
   "language": "python",
   "name": "python3"
  },
  "language_info": {
   "codemirror_mode": {
    "name": "ipython",
    "version": 3
   },
   "file_extension": ".py",
   "mimetype": "text/x-python",
   "name": "python",
   "nbconvert_exporter": "python",
   "pygments_lexer": "ipython3",
   "version": "3.9.12"
  },
  "orig_nbformat": 4
 },
 "nbformat": 4,
 "nbformat_minor": 2
}
